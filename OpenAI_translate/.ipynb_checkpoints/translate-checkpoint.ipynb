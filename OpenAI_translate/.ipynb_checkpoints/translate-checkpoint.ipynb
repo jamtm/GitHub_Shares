{
 "cells": [
  {
   "cell_type": "code",
   "execution_count": null,
   "id": "62a8392b-bfcc-4f50-9595-0da43c7c968a",
   "metadata": {},
   "outputs": [],
   "source": [
    "import domojupyter as domo\n",
    "import os\n",
    "import json\n",
    "import pandas as pd\n",
    "!pip install openai\n",
    "import openai"
   ]
  },
  {
   "cell_type": "code",
   "execution_count": null,
   "id": "0fee6a20-1b49-4091-a1cd-f770bffe92d7",
   "metadata": {},
   "outputs": [],
   "source": [
    "input = domo.read_dataframe('Sample Sales for Translation', query='SELECT * FROM table')\n",
    "\n",
    "df = input[['department']]\n",
    "df = df.rename(columns={\n",
    "                      'department': 'text'})\n",
    "df = df.drop_duplicates()\n",
    "df.tail(10)"
   ]
  },
  {
   "cell_type": "code",
   "execution_count": null,
   "id": "89fa3b35-6801-410f-bc89-4ea8d9d63b0c",
   "metadata": {},
   "outputs": [],
   "source": [
    "openai.api_key = \"your_openAI_token_here\"\n",
    "\n",
    "def translate_text(text, target_language):\n",
    "    response = openai.Completion.create(\n",
    "        engine=\"text-davinci-003\",\n",
    "        prompt=f\"Translate '{text}' to {target_language}:\",\n",
    "        max_tokens=1024,\n",
    "        n=1,\n",
    "        stop=None,\n",
    "        temperature=0.7,\n",
    "    )\n",
    "    translation = response.choices[0].text.strip()\n",
    "    return translation"
   ]
  },
  {
   "cell_type": "code",
   "execution_count": null,
   "id": "d76d290f-5d40-4eed-ad65-980c6ceba179",
   "metadata": {},
   "outputs": [],
   "source": [
    "target_languages = ['fr', 'es', 'de'] # French, Spanish, German\n",
    "translated_df = pd.DataFrame(columns=['text'] + [f'translated_{lang}' for lang in target_languages])"
   ]
  },
  {
   "cell_type": "code",
   "execution_count": null,
   "id": "bd007163-6841-4061-a246-861079fedec4",
   "metadata": {},
   "outputs": [],
   "source": [
    "for i, row in df.iterrows():\n",
    "    text = row['text']\n",
    "    translation_row = {'text': text}\n",
    "    for lang in target_languages:\n",
    "        translation = translate_text(text, lang)\n",
    "        translation_row[f'translated_{lang}'] = translation\n",
    "    translated_df = pd.concat([translated_df, pd.DataFrame(translation_row, index=[0])], ignore_index=True)"
   ]
  },
  {
   "cell_type": "code",
   "execution_count": null,
   "id": "ef2a8072-aa75-4d06-bfff-85c84e68755c",
   "metadata": {},
   "outputs": [],
   "source": [
    "# Print translated dataframe\n",
    "print(translated_df)"
   ]
  },
  {
   "cell_type": "code",
   "execution_count": null,
   "id": "5e7edc27-81ef-4472-9f3e-d55329f5d630",
   "metadata": {},
   "outputs": [],
   "source": [
    "domo.write_dataframe(translated_df, 'Translated Departments')"
   ]
  }
 ],
 "metadata": {
  "kernelspec": {
   "display_name": "Python 3.9",
   "language": "python",
   "name": "python_3_9"
  },
  "language_info": {
   "codemirror_mode": {
    "name": "ipython",
    "version": 3
   },
   "file_extension": ".py",
   "mimetype": "text/x-python",
   "name": "python",
   "nbconvert_exporter": "python",
   "pygments_lexer": "ipython3",
   "version": "3.9.13"
  }
 },
 "nbformat": 4,
 "nbformat_minor": 5
}
